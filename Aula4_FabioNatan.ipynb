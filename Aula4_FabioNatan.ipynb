{
  "nbformat": 4,
  "nbformat_minor": 0,
  "metadata": {
    "colab": {
      "provenance": []
    },
    "kernelspec": {
      "name": "python3",
      "display_name": "Python 3"
    },
    "language_info": {
      "name": "python"
    }
  },
  "cells": [
    {
      "cell_type": "code",
      "execution_count": null,
      "metadata": {
        "colab": {
          "base_uri": "https://localhost:8080/"
        },
        "id": "xa1LMovJ5x6a",
        "outputId": "71d8cc16-d952-4896-85cb-0fbcff169f3d"
      },
      "outputs": [
        {
          "output_type": "stream",
          "name": "stdout",
          "text": [
            "Informe a nota 1:8\n",
            "Informe a nota 2:7\n",
            "Média final:  7.5\n",
            "True\n"
          ]
        }
      ],
      "source": [
        "nota1 = float(input(\"Informe a nota 1:\"))\n",
        "nota2 = float(input(\"Informe a nota 2:\"))\n",
        "\n",
        "media = (nota1 + nota2) / 2\n",
        "\n",
        "print(\"Média final: \", media)\n",
        "print(media >= 5.75)"
      ]
    },
    {
      "cell_type": "code",
      "source": [
        "#Questão 1)\n",
        "x = float(input(\"Digite o número que representará a incógnita 'x': \"))\n",
        "y = float(input(\"Digite o número que representará a incógnita 'y': \"))\n",
        "\n",
        "soma = float(x + y)\n",
        "subtracao = float(x - y)\n",
        "divisao = float(x / y)\n",
        "multiplicacao = float(x * y)\n",
        "print(\"Resultado da soma : \", soma)\n",
        "print(\"Resultado da subtração: \", subtracao)\n",
        "print(\"Resultado da divisão: \", divisao)\n",
        "print(\"Resultado da multiplicação: \", multiplicacao)\n",
        "\n",
        "#Questão 2)\n",
        "distancia_total = float(input(\"Digite a distância total da viagem: \"))\n",
        "combL_gasto = float(input(\"Digite o combustível gasto durante a viagem: \"))\n",
        "\n",
        "cons_med = float(distancia_total / combL_gasto)\n",
        "print(\"Sua média de consumo de combustível é: \", cons_med)\n",
        "\n",
        "#Questão 3)\n",
        "vendedor = input(\"Digite o código/nome do vendedor: \")\n",
        "salario_fixo = float(input(\"Digite o salário fixo do vendedor: \"))\n",
        "vendas = float(input(\"Digite as vendas do mês: \"))\n",
        "comissao = 0.15\n",
        "\n",
        "salario_do_mes = salario_fixo + (vendas * comissao)\n",
        "\n",
        "tex_resultado = \"O salário de {} será de R$ {} este mês.\".format(vendedor, salario_do_mes)\n",
        "print(tex_resultado)\n",
        "\n",
        "#Questão 4)\n",
        "a = input(\"Digite um valor para \"\"A\"\":\")\n",
        "b = input(\"Agora digite um valor para \"\"B\"\":\")\n",
        "\n",
        "print(\"O valor de A é: \", a)\n",
        "print(\"E o valor de B é: \", b)\n",
        "\n",
        "c = a\n",
        "a = b\n",
        "b = c\n",
        "\n",
        "print(\"Agora o valor de \"\"A\"\" é: \", a)\n",
        "print(\"e o valor de \"\"B\"\" é: \", b)\n",
        "\n",
        "#Questão 5\n",
        "real = float(input(\"Digite quantos reais você possui: \"))\n",
        "cotacao = float(input(\"Digite a cotação do dólar atual: \"))\n",
        "\n",
        "conversao = (real / cotacao)\n",
        "\n",
        "money_disp = \"Você possui U$${} dólares disponveis em sua conta.\".format(conversao)\n",
        "print(money_disp)\n",
        "\n",
        "#Questão 6\n",
        "deposito = float(input(\"Digite o valor depositado para a simulação de rendimento: \"))\n",
        "mes = 1\n",
        "juros = 0.07\n",
        "\n",
        "rendimento = mes * (deposito * juros)\n",
        "\n",
        "print(\"O seu rendimento após 1 mês é de: \", rendimento)\n",
        "\n",
        "#Questão 7\n",
        "produto = float(input(\"Caro cliente, digite o valor do produto ($): \"))\n",
        "prestacao = (produto / 5)\n",
        "\n",
        "print(\"Durante os 5 meses você deverá pagar R$\",prestacao,\"de prestação\")\n",
        "\n"
      ],
      "metadata": {
        "colab": {
          "base_uri": "https://localhost:8080/"
        },
        "id": "Ya6jSLHY8-0n",
        "outputId": "8d1d4ce2-0490-4ddd-b2a3-f059f81ae8d9"
      },
      "execution_count": 17,
      "outputs": [
        {
          "output_type": "stream",
          "name": "stdout",
          "text": [
            "Digite o número que representará a incógnita 'x': 20\n",
            "Digite o número que representará a incógnita 'y': 10\n",
            "Resultado da soma :  30.0\n",
            "Resultado da subtração:  10.0\n",
            "Resultado da divisão:  2.0\n",
            "Resultado da multiplicação:  200.0\n",
            "Digite a distância total da viagem: 400\n",
            "Digite o combustível gasto durante a viagem: 50\n",
            "Sua média de consumo de combustível é:  8.0\n",
            "Digite o código/nome do vendedor: luis\n",
            "Digite o salário fixo do vendedor: 7800\n",
            "Digite as vendas do mês: 5611\n",
            "O salário de luis será de R$ 8641.65 este mês.\n",
            "Digite um valor para A:78\n",
            "Agora digite um valor para B:74\n",
            "O valor de A é:  78\n",
            "E o valor de B é:  74\n",
            "Agora o valor de A é:  74\n",
            "e o valor de B é:  78\n",
            "Digite quantos reais você possui: 8000\n",
            "Digite a cotação do dólar atual: 5.02\n",
            "Você possui U$$1593.6254980079682 dólares disponveis em sua conta.\n",
            "Digite o valor depositado para a simulação de rendimento: 566\n",
            "O seu rendimento após 1 mês é de:  39.620000000000005\n",
            "Caro cliente, digite o valor do produto ($): 8990\n",
            "Durante os 5 meses você deverá pagar R$ 1798.0 de prestação\n"
          ]
        }
      ]
    }
  ]
}